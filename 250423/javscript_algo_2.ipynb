{
  "metadata": {
    "kernelspec": {
      "name": "javascript",
      "display_name": "JavaScript (Web Worker)",
      "language": "javascript"
    },
    "language_info": {
      "codemirror_mode": {
        "name": "javascript"
      },
      "file_extension": ".js",
      "mimetype": "text/javascript",
      "name": "javascript",
      "nbconvert_exporter": "javascript",
      "pygments_lexer": "javascript",
      "version": "es2017"
    }
  },
  "nbformat_minor": 4,
  "nbformat": 4,
  "cells": [
    {
      "cell_type": "code",
      "source": "//250424 Day 2",
      "metadata": {
        "trusted": true
      },
      "outputs": [
        {
          "execution_count": 6,
          "output_type": "execute_result",
          "data": {},
          "metadata": {}
        }
      ],
      "execution_count": 6
    },
    {
      "cell_type": "code",
      "source": " console.log(\"test\")",
      "metadata": {
        "trusted": true
      },
      "outputs": [
        {
          "name": "stdout",
          "text": "test\n",
          "output_type": "stream"
        },
        {
          "execution_count": 1,
          "output_type": "execute_result",
          "data": {},
          "metadata": {}
        }
      ],
      "execution_count": 1
    },
    {
      "cell_type": "code",
      "source": "// 링크드리스트 ADT(Abstract Data Type)를 구현하겠다!\n// push, pop, search, insert...\n// l.push(12)\n// l.push(99)\n// l.push(37)\n// l.push(77)",
      "metadata": {
        "trusted": true
      },
      "outputs": [],
      "execution_count": null
    },
    {
      "cell_type": "code",
      "source": "class Node {\n    constructor(data){\n        this.data = data\n        this.next = null\n    }\n}\n\nclass LinkedList {\n    constructor(){\n        let init = new Node('init')\n        this.head = init\n        this.tail = init\n    }\n\n    push(data){\n        let newnode = new Node(data)\n        this.tail.next = newnode\n        this.tail = newnode\n    }\n}\n\nl = new LinkedList()\nl.push(10)\nl.push(20)\nl.push(30)\nl.push(40)\nl.push(50)",
      "metadata": {
        "trusted": true
      },
      "outputs": [
        {
          "execution_count": 2,
          "output_type": "execute_result",
          "data": {},
          "metadata": {}
        }
      ],
      "execution_count": 2
    },
    {
      "cell_type": "code",
      "source": "l.head.data\nl.head.next.data\nl.head.next.next.data\nl.head.next.next.next.data",
      "metadata": {
        "trusted": true
      },
      "outputs": [
        {
          "execution_count": 3,
          "output_type": "execute_result",
          "data": {
            "text/plain": "30"
          },
          "metadata": {}
        }
      ],
      "execution_count": 3
    },
    {
      "cell_type": "code",
      "source": "const root = {\n    'data':55,\n    'left': null,\n    'right': null\n}\n\nconst node1 = {\n    'data': 30,\n    'left': null,\n    'right': null\n}\n\nconst node2 = {\n    'data': 70,\n    'left': null,\n    'right': null\n}\n\nroot.left = node1\nroot.right = node2\n\nroot.left.data",
      "metadata": {
        "trusted": true
      },
      "outputs": [
        {
          "execution_count": 4,
          "output_type": "execute_result",
          "data": {
            "text/plain": "30"
          },
          "metadata": {}
        }
      ],
      "execution_count": 4
    },
    {
      "cell_type": "code",
      "source": "class Node {\n    constructor(data){\n        this.data = data\n        this.left = null\n        this.right = null\n    }\n}\n\nroot = new Node(55)\nnode1 = new Node(30)\nnode2 = new Node(70)\n\nroot.left = node1\nroot.right = node2\n\nroot.left.data",
      "metadata": {
        "trusted": true
      },
      "outputs": [
        {
          "execution_count": 5,
          "output_type": "execute_result",
          "data": {
            "text/plain": "30"
          },
          "metadata": {}
        }
      ],
      "execution_count": 5
    },
    {
      "cell_type": "code",
      "source": "class Node {\n    constructor(data){\n        this.data = data\n        this.left = null\n        this.right = null\n    }\n}\n\nclass Tree {\n    constructor(data) {\n        let init = new Node(data);\n        this.root = init\n        this.length = 0\n    }\n\n    insert(data) {\n        let 새로운노드 = new Node(data)\n        let 순회용현재노드 = this.root\n\n        while(순회용현재노드) {\n            if (data == 순회용현재노드.data){\n                return\n            } else if(data < 순회용현재노드.data){\n                // 왼쪽에 붙어야 합니다!\n                if (!순회용현재노드.left){\n                    순회용현재노드.left = 새로운노드\n                    this.length += 1\n                    return\n                }\n                순회용현재노드 = 순회용현재노드.left\n            } else if(data > 순회용현재노드.data){\n                // 오른쪽에 붙어야 합니다!\n                if (!순회용현재노드.right){\n                    순회용현재노드.right = 새로운노드\n                    this.length += 1\n                    return\n                }\n                순회용현재노드 = 순회용현재노드.right\n            }\n        }\n    }\n}\n\nlet t = new Tree(5)\nt.insert(3)\nt.insert(8)\nt.insert(1)\nt.insert(4)\nt.insert(6)\nt.insert(9)\n\nt.root.right.data\nt.root.right.left.data",
      "metadata": {
        "trusted": true
      },
      "outputs": [
        {
          "execution_count": 10,
          "output_type": "execute_result",
          "data": {
            "text/plain": "6"
          },
          "metadata": {}
        }
      ],
      "execution_count": 10
    },
    {
      "cell_type": "code",
      "source": "// 깊이 우선 탐색과 너비 우선 탐색\n\nclass Node {\n    constructor(data){\n        this.data = data\n        this.left = null\n        this.right = null\n    }\n}\n\nclass Tree {\n    constructor(data) {\n        let init = new Node(data);\n        this.root = init\n        this.length = 0\n    }\n\n    insert(data) {\n        let 새로운노드 = new Node(data)\n        let 순회용현재노드 = this.root\n\n        while(순회용현재노드) {\n            if (data == 순회용현재노드.data){\n                return\n            } else if(data < 순회용현재노드.data){\n                // 왼쪽에 붙어야 합니다!\n                if (!순회용현재노드.left){\n                    순회용현재노드.left = 새로운노드\n                    this.length += 1\n                    return\n                }\n                순회용현재노드 = 순회용현재노드.left\n            } else if(data > 순회용현재노드.data){\n                // 오른쪽에 붙어야 합니다!\n                if (!순회용현재노드.right){\n                    순회용현재노드.right = 새로운노드\n                    this.length += 1\n                    return\n                }\n                순회용현재노드 = 순회용현재노드.right\n            }\n        }\n    }\n\n    DFS(){\n        // 깊이 우선 탐색\n        let 방문경로 = []\n        let 스택 = [this.root]\n\n        while (스택.length !== 0){\n            let current = 스택.pop()\n            if (current.right){\n                스택.push(current.right)\n            }\n            if (current.left){\n                스택.push(current.left)\n            }\n            방문경로.push(current.data)\n        }\n        return 방문경로\n    }\n    BFS(){\n        // 너비 우선 탐색\n        let 방문경로 = []\n        let 큐 = [this.root]\n\n        while (큐.length !== 0){\n            let current = 큐.shift()\n            if (current.left){\n                큐.push(current.left)\n            }\n            if (current.right){\n                큐.push(current.right)\n            }\n            방문경로.push(current.data)\n        }\n        return 방문경로\n    }\n}\n\nlet t = new Tree(5)\nt.insert(3)\nt.insert(8)\nt.insert(1)\nt.insert(4)\nt.insert(6)\nt.insert(9)\n\nt.DFS()\nt.BFS()",
      "metadata": {
        "trusted": true
      },
      "outputs": [
        {
          "execution_count": 11,
          "output_type": "execute_result",
          "data": {
            "text/plain": "[ 5, 3, 8, 1, 4, 6, 9 ]"
          },
          "metadata": {}
        }
      ],
      "execution_count": 11
    },
    {
      "cell_type": "code",
      "source": "",
      "metadata": {
        "trusted": true
      },
      "outputs": [],
      "execution_count": null
    }
  ]
}